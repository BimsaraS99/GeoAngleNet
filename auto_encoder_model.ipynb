{
 "cells": [
  {
   "cell_type": "markdown",
   "id": "ed64c793",
   "metadata": {},
   "source": [
    "### Import Libraries"
   ]
  },
  {
   "cell_type": "code",
   "execution_count": 144,
   "id": "dbc54298",
   "metadata": {},
   "outputs": [
    {
     "data": {
      "text/plain": [
       "device(type='cuda')"
      ]
     },
     "execution_count": 144,
     "metadata": {},
     "output_type": "execute_result"
    }
   ],
   "source": [
    "import torch\n",
    "import torch.nn as nn\n",
    "import torch.nn.functional as F\n",
    "from PIL import Image\n",
    "import numpy as np\n",
    "import matplotlib.pyplot as plt\n",
    "from torch.utils.data import Dataset, DataLoader\n",
    "import os\n",
    "from torchvision import transforms\n",
    "import torch.optim as optim\n",
    "import cv2\n",
    "import math\n",
    "from tqdm import tqdm\n",
    "\n",
    "device = torch.device(\"cuda\" if torch.cuda.is_available() else \"cpu\")\n",
    "device"
   ]
  },
  {
   "cell_type": "markdown",
   "id": "1372ee7e",
   "metadata": {},
   "source": [
    "## Autoencoder training process"
   ]
  },
  {
   "cell_type": "markdown",
   "id": "65d788a0",
   "metadata": {},
   "source": [
    "Data loading"
   ]
  },
  {
   "cell_type": "code",
   "execution_count": 166,
   "id": "ec00335c",
   "metadata": {},
   "outputs": [],
   "source": [
    "import os\n",
    "import cv2\n",
    "import torch\n",
    "import numpy as np\n",
    "from torch.utils.data import Dataset\n",
    "\n",
    "class AutoencoderDataset(Dataset):\n",
    "    def __init__(self, root_dir, image_type1=\"img2.png\", image_type2=\"corner2.png\", transform=None):\n",
    "        \"\"\"\n",
    "        root_dir: path to dataset (e.g., \"synthetic_dataset_complex\")\n",
    "        image_type1: input image name (e.g., \"img1.png\")\n",
    "        image_type2: target image name (e.g., \"ellipse1.png\")\n",
    "        transform: optional transform function (should operate on tensors or arrays)\n",
    "        \"\"\"\n",
    "        self.root_dir = root_dir\n",
    "        self.sample_dirs = sorted([\n",
    "            os.path.join(root_dir, d) for d in os.listdir(root_dir)\n",
    "            if os.path.isdir(os.path.join(root_dir, d))\n",
    "        ])\n",
    "        self.image_type1 = image_type1\n",
    "        self.image_type2 = image_type2\n",
    "        self.transform = transform\n",
    "\n",
    "    def __len__(self):\n",
    "        return len(self.sample_dirs)\n",
    "\n",
    "    def __getitem__(self, idx):\n",
    "        sample_path = self.sample_dirs[idx]\n",
    "\n",
    "        input_path = os.path.join(sample_path, self.image_type1)\n",
    "        target_path = os.path.join(sample_path, self.image_type2)\n",
    "\n",
    "        # Load input and target images, normalize\n",
    "        input_img = cv2.imread(input_path, cv2.IMREAD_GRAYSCALE).astype(np.float32) / 255.0\n",
    "        target_img = cv2.imread(target_path, cv2.IMREAD_GRAYSCALE).astype(np.float32) / 255.0\n",
    "\n",
    "        input_img = np.expand_dims(input_img, axis=0)   # Shape: (1, H, W)\n",
    "        target_img = np.expand_dims(target_img, axis=0) # Shape: (1, H, W)\n",
    "\n",
    "        if self.transform:\n",
    "            input_img = self.transform(input_img)\n",
    "            target_img = self.transform(target_img)\n",
    "\n",
    "        return torch.tensor(input_img), torch.tensor(target_img)\n"
   ]
  },
  {
   "cell_type": "code",
   "execution_count": 167,
   "id": "acabd299",
   "metadata": {},
   "outputs": [],
   "source": [
    "root_dir = \"synthetic_dataset_complex\"\n",
    "\n",
    "dataset = AutoencoderDataset(root_dir)\n",
    "train_loader = DataLoader(dataset, batch_size=32, shuffle=True, num_workers=0)"
   ]
  },
  {
   "cell_type": "markdown",
   "id": "06f6f8ce",
   "metadata": {},
   "source": [
    "Define model"
   ]
  },
  {
   "cell_type": "code",
   "execution_count": 147,
   "id": "e75036df",
   "metadata": {},
   "outputs": [],
   "source": [
    "import torch\n",
    "import torch.nn as nn\n",
    "\n",
    "class Autoencoder(nn.Module):\n",
    "    def __init__(self):\n",
    "        super(Autoencoder, self).__init__()\n",
    "\n",
    "        # --- Encoder ---\n",
    "        self.enc1 = nn.Sequential(\n",
    "            nn.Conv2d(1, 16, kernel_size=4, stride=2, padding=1),  # (B, 16, 128, 128)\n",
    "            nn.ReLU()\n",
    "        )\n",
    "        self.enc2 = nn.Sequential(\n",
    "            nn.Conv2d(16, 32, kernel_size=4, stride=2, padding=1),  # (B, 32, 64, 64)\n",
    "            nn.ReLU()\n",
    "        )\n",
    "        self.enc3 = nn.Sequential(\n",
    "            nn.Conv2d(32, 64, kernel_size=4, stride=2, padding=1),  # (B, 64, 32, 32)\n",
    "            nn.ReLU()\n",
    "        )\n",
    "\n",
    "        # --- Decoder ---\n",
    "        self.dec3 = nn.Sequential(\n",
    "            nn.ConvTranspose2d(64, 32, kernel_size=4, stride=2, padding=1),  # (B, 32, 64, 64)\n",
    "            nn.ReLU()\n",
    "        )\n",
    "        self.dec2 = nn.Sequential(\n",
    "            nn.ConvTranspose2d(64, 16, kernel_size=4, stride=2, padding=1),  # (B, 16, 128, 128)\n",
    "            nn.ReLU()\n",
    "        )\n",
    "        self.dec1 = nn.Sequential(\n",
    "            nn.ConvTranspose2d(32, 1, kernel_size=4, stride=2, padding=1),   # (B, 1, 256, 256)\n",
    "            nn.Sigmoid()  # for binary mask reconstruction\n",
    "        )\n",
    "\n",
    "    def forward(self, x):\n",
    "        # --- Encoding ---\n",
    "        x1 = self.enc1(x)  # (B, 16, 128, 128)\n",
    "        x2 = self.enc2(x1) # (B, 32, 64, 64)\n",
    "        x3 = self.enc3(x2) # (B, 64, 32, 32)\n",
    "\n",
    "        # --- Decoding ---\n",
    "        d3 = self.dec3(x3)           # (B, 32, 64, 64)\n",
    "        d3 = torch.cat([d3, x2], 1)  # (B, 64, 64, 64)\n",
    "\n",
    "        d2 = self.dec2(d3)           # (B, 16, 128, 128)\n",
    "        d2 = torch.cat([d2, x1], 1)  # (B, 32, 128, 128)\n",
    "\n",
    "        out = self.dec1(d2)          # (B, 1, 256, 256)\n",
    "        return out\n"
   ]
  },
  {
   "cell_type": "markdown",
   "id": "2e5e5e04",
   "metadata": {},
   "source": [
    "Create model, loss function and optimizer"
   ]
  },
  {
   "cell_type": "code",
   "execution_count": 148,
   "id": "02ef0320",
   "metadata": {},
   "outputs": [],
   "source": [
    "batch_size = 16\n",
    "num_epochs = 35\n",
    "learning_rate = 1e-3\n",
    "\n",
    "model = Autoencoder().to(device)\n",
    "criterion = nn.BCELoss()  # Since we use sigmoid in output\n",
    "optimizer = torch.optim.Adam(model.parameters(), lr=learning_rate)"
   ]
  },
  {
   "cell_type": "markdown",
   "id": "7db99982",
   "metadata": {},
   "source": [
    "Auto-encoder training loop"
   ]
  },
  {
   "cell_type": "code",
   "execution_count": 169,
   "id": "e2bb04d9",
   "metadata": {},
   "outputs": [
    {
     "name": "stderr",
     "output_type": "stream",
     "text": [
      "                                                                         \r"
     ]
    },
    {
     "name": "stdout",
     "output_type": "stream",
     "text": [
      "Epoch 1/35 - Avg Loss: 0.006352\n"
     ]
    },
    {
     "name": "stderr",
     "output_type": "stream",
     "text": [
      "                                                                         \r"
     ]
    },
    {
     "name": "stdout",
     "output_type": "stream",
     "text": [
      "Epoch 2/35 - Avg Loss: 0.006138\n"
     ]
    },
    {
     "name": "stderr",
     "output_type": "stream",
     "text": [
      "                                                                         \r"
     ]
    },
    {
     "name": "stdout",
     "output_type": "stream",
     "text": [
      "Epoch 3/35 - Avg Loss: 0.006001\n"
     ]
    },
    {
     "name": "stderr",
     "output_type": "stream",
     "text": [
      "                                                                         \r"
     ]
    },
    {
     "name": "stdout",
     "output_type": "stream",
     "text": [
      "Epoch 4/35 - Avg Loss: 0.005878\n"
     ]
    },
    {
     "name": "stderr",
     "output_type": "stream",
     "text": [
      "                                                                         \r"
     ]
    },
    {
     "name": "stdout",
     "output_type": "stream",
     "text": [
      "Epoch 5/35 - Avg Loss: 0.005853\n"
     ]
    },
    {
     "name": "stderr",
     "output_type": "stream",
     "text": [
      "                                                                         \r"
     ]
    },
    {
     "name": "stdout",
     "output_type": "stream",
     "text": [
      "Epoch 6/35 - Avg Loss: 0.005821\n"
     ]
    },
    {
     "name": "stderr",
     "output_type": "stream",
     "text": [
      "                                                                         \r"
     ]
    },
    {
     "name": "stdout",
     "output_type": "stream",
     "text": [
      "Epoch 7/35 - Avg Loss: 0.005798\n"
     ]
    },
    {
     "name": "stderr",
     "output_type": "stream",
     "text": [
      "                                                                         \r"
     ]
    },
    {
     "name": "stdout",
     "output_type": "stream",
     "text": [
      "Epoch 8/35 - Avg Loss: 0.005749\n"
     ]
    },
    {
     "name": "stderr",
     "output_type": "stream",
     "text": [
      "                                                                         \r"
     ]
    },
    {
     "name": "stdout",
     "output_type": "stream",
     "text": [
      "Epoch 9/35 - Avg Loss: 0.005665\n"
     ]
    },
    {
     "name": "stderr",
     "output_type": "stream",
     "text": [
      "                                                                          \r"
     ]
    },
    {
     "name": "stdout",
     "output_type": "stream",
     "text": [
      "Epoch 10/35 - Avg Loss: 0.005662\n"
     ]
    },
    {
     "name": "stderr",
     "output_type": "stream",
     "text": [
      "                                                                          \r"
     ]
    },
    {
     "name": "stdout",
     "output_type": "stream",
     "text": [
      "Epoch 11/35 - Avg Loss: 0.005624\n"
     ]
    },
    {
     "name": "stderr",
     "output_type": "stream",
     "text": [
      "                                                                          \r"
     ]
    },
    {
     "name": "stdout",
     "output_type": "stream",
     "text": [
      "Epoch 12/35 - Avg Loss: 0.005627\n"
     ]
    },
    {
     "name": "stderr",
     "output_type": "stream",
     "text": [
      "                                                                          \r"
     ]
    },
    {
     "name": "stdout",
     "output_type": "stream",
     "text": [
      "Epoch 13/35 - Avg Loss: 0.005651\n"
     ]
    },
    {
     "name": "stderr",
     "output_type": "stream",
     "text": [
      "                                                                          \r"
     ]
    },
    {
     "name": "stdout",
     "output_type": "stream",
     "text": [
      "Epoch 14/35 - Avg Loss: 0.005512\n"
     ]
    },
    {
     "name": "stderr",
     "output_type": "stream",
     "text": [
      "                                                                          \r"
     ]
    },
    {
     "name": "stdout",
     "output_type": "stream",
     "text": [
      "Epoch 15/35 - Avg Loss: 0.005546\n"
     ]
    },
    {
     "name": "stderr",
     "output_type": "stream",
     "text": [
      "                                                                          \r"
     ]
    },
    {
     "name": "stdout",
     "output_type": "stream",
     "text": [
      "Epoch 16/35 - Avg Loss: 0.005566\n"
     ]
    },
    {
     "name": "stderr",
     "output_type": "stream",
     "text": [
      "                                                                          \r"
     ]
    },
    {
     "name": "stdout",
     "output_type": "stream",
     "text": [
      "Epoch 17/35 - Avg Loss: 0.005508\n"
     ]
    },
    {
     "name": "stderr",
     "output_type": "stream",
     "text": [
      "                                                                          \r"
     ]
    },
    {
     "name": "stdout",
     "output_type": "stream",
     "text": [
      "Epoch 18/35 - Avg Loss: 0.005415\n"
     ]
    },
    {
     "name": "stderr",
     "output_type": "stream",
     "text": [
      "                                                                          \r"
     ]
    },
    {
     "name": "stdout",
     "output_type": "stream",
     "text": [
      "Epoch 19/35 - Avg Loss: 0.005440\n"
     ]
    },
    {
     "name": "stderr",
     "output_type": "stream",
     "text": [
      "                                                                          \r"
     ]
    },
    {
     "name": "stdout",
     "output_type": "stream",
     "text": [
      "Epoch 20/35 - Avg Loss: 0.005409\n"
     ]
    },
    {
     "name": "stderr",
     "output_type": "stream",
     "text": [
      "                                                                          \r"
     ]
    },
    {
     "name": "stdout",
     "output_type": "stream",
     "text": [
      "Epoch 21/35 - Avg Loss: 0.005461\n"
     ]
    },
    {
     "name": "stderr",
     "output_type": "stream",
     "text": [
      "                                                                          \r"
     ]
    },
    {
     "name": "stdout",
     "output_type": "stream",
     "text": [
      "Epoch 22/35 - Avg Loss: 0.005411\n"
     ]
    },
    {
     "name": "stderr",
     "output_type": "stream",
     "text": [
      "                                                                          \r"
     ]
    },
    {
     "name": "stdout",
     "output_type": "stream",
     "text": [
      "Epoch 23/35 - Avg Loss: 0.005349\n"
     ]
    },
    {
     "name": "stderr",
     "output_type": "stream",
     "text": [
      "                                                                          \r"
     ]
    },
    {
     "name": "stdout",
     "output_type": "stream",
     "text": [
      "Epoch 24/35 - Avg Loss: 0.005310\n"
     ]
    },
    {
     "name": "stderr",
     "output_type": "stream",
     "text": [
      "                                                                          \r"
     ]
    },
    {
     "name": "stdout",
     "output_type": "stream",
     "text": [
      "Epoch 25/35 - Avg Loss: 0.005266\n"
     ]
    },
    {
     "name": "stderr",
     "output_type": "stream",
     "text": [
      "                                                                          \r"
     ]
    },
    {
     "name": "stdout",
     "output_type": "stream",
     "text": [
      "Epoch 26/35 - Avg Loss: 0.005367\n"
     ]
    },
    {
     "name": "stderr",
     "output_type": "stream",
     "text": [
      "                                                                          \r"
     ]
    },
    {
     "name": "stdout",
     "output_type": "stream",
     "text": [
      "Epoch 27/35 - Avg Loss: 0.005260\n"
     ]
    },
    {
     "name": "stderr",
     "output_type": "stream",
     "text": [
      "                                                                          \r"
     ]
    },
    {
     "name": "stdout",
     "output_type": "stream",
     "text": [
      "Epoch 28/35 - Avg Loss: 0.005209\n"
     ]
    },
    {
     "name": "stderr",
     "output_type": "stream",
     "text": [
      "                                                                          \r"
     ]
    },
    {
     "name": "stdout",
     "output_type": "stream",
     "text": [
      "Epoch 29/35 - Avg Loss: 0.005290\n"
     ]
    },
    {
     "name": "stderr",
     "output_type": "stream",
     "text": [
      "                                                                          \r"
     ]
    },
    {
     "name": "stdout",
     "output_type": "stream",
     "text": [
      "Epoch 30/35 - Avg Loss: 0.005363\n"
     ]
    },
    {
     "name": "stderr",
     "output_type": "stream",
     "text": [
      "                                                                          \r"
     ]
    },
    {
     "name": "stdout",
     "output_type": "stream",
     "text": [
      "Epoch 31/35 - Avg Loss: 0.005242\n"
     ]
    },
    {
     "name": "stderr",
     "output_type": "stream",
     "text": [
      "                                                                          \r"
     ]
    },
    {
     "name": "stdout",
     "output_type": "stream",
     "text": [
      "Epoch 32/35 - Avg Loss: 0.005245\n"
     ]
    },
    {
     "name": "stderr",
     "output_type": "stream",
     "text": [
      "                                                                          \r"
     ]
    },
    {
     "name": "stdout",
     "output_type": "stream",
     "text": [
      "Epoch 33/35 - Avg Loss: 0.005228\n"
     ]
    },
    {
     "name": "stderr",
     "output_type": "stream",
     "text": [
      "                                                                          \r"
     ]
    },
    {
     "name": "stdout",
     "output_type": "stream",
     "text": [
      "Epoch 34/35 - Avg Loss: 0.005140\n"
     ]
    },
    {
     "name": "stderr",
     "output_type": "stream",
     "text": [
      "                                                                          "
     ]
    },
    {
     "name": "stdout",
     "output_type": "stream",
     "text": [
      "Epoch 35/35 - Avg Loss: 0.005130\n"
     ]
    },
    {
     "name": "stderr",
     "output_type": "stream",
     "text": [
      "\r"
     ]
    }
   ],
   "source": [
    "for epoch in range(num_epochs):\n",
    "    model.train()\n",
    "    total_loss = 0.0\n",
    "\n",
    "    progress_bar = tqdm(train_loader, desc=f\"Epoch {epoch+1}/{num_epochs}\", leave=False)\n",
    "    for inputs, targets in progress_bar:\n",
    "        inputs = inputs.to(device)    # (B, 1, 256, 256)\n",
    "        targets = targets.to(device)\n",
    "\n",
    "        # Forward pass\n",
    "        outputs = model(inputs)\n",
    "        loss = criterion(outputs, targets)\n",
    "\n",
    "        # Backward and optimize\n",
    "        optimizer.zero_grad()\n",
    "        loss.backward()\n",
    "        optimizer.step()\n",
    "\n",
    "        total_loss += loss.item() * inputs.size(0)\n",
    "        progress_bar.set_postfix(loss=loss.item())\n",
    "\n",
    "    avg_loss = total_loss / len(train_loader.dataset)\n",
    "    print(f\"Epoch {epoch+1}/{num_epochs} - Avg Loss: {avg_loss:.6f}\")\n"
   ]
  },
  {
   "cell_type": "code",
   "execution_count": 165,
   "id": "059b5135",
   "metadata": {},
   "outputs": [
    {
     "name": "stdout",
     "output_type": "stream",
     "text": [
      "Model checkpoint saved to autoencoder_checkpoint.pth\n"
     ]
    }
   ],
   "source": [
    "# Save the autoencoder model as a checkpoint\n",
    "checkpoint_path = \"autoencoder_checkpoint.pth\"\n",
    "torch.save({\n",
    "    'epoch': epoch,\n",
    "    'model_state_dict': model.state_dict(),\n",
    "    'optimizer_state_dict': optimizer.state_dict(),\n",
    "    'loss': avg_loss,\n",
    "}, checkpoint_path)\n",
    "print(f\"Model checkpoint saved to {checkpoint_path}\")"
   ]
  },
  {
   "cell_type": "markdown",
   "id": "9da49161",
   "metadata": {},
   "source": [
    "See results of trained auto encoder"
   ]
  },
  {
   "cell_type": "code",
   "execution_count": 170,
   "id": "588b5cbf",
   "metadata": {},
   "outputs": [
    {
     "data": {
      "image/png": "[encoded data removed]",
      "text/plain": [
       "<Figure size 640x480 with 8 Axes>"
      ]
     },
     "metadata": {},
     "output_type": "display_data"
    }
   ],
   "source": [
    "model.eval()\n",
    "with torch.no_grad():\n",
    "    for inputs, _ in train_loader:\n",
    "        inputs = inputs.to(device)\n",
    "        outputs = model(inputs)\n",
    "        break  # only one batch\n",
    "\n",
    "# Show first 4 reconstructions\n",
    "for i in range(4):\n",
    "    inp = inputs[i].cpu().squeeze().numpy()\n",
    "    out = outputs[i].cpu().squeeze().numpy()\n",
    "    \n",
    "    plt.subplot(2, 4, i+1)\n",
    "    plt.imshow(inp, cmap=\"gray\")\n",
    "    plt.title(\"Input\")\n",
    "    plt.axis(\"off\")\n",
    "    \n",
    "    plt.subplot(2, 4, i+5)\n",
    "    plt.imshow(out, cmap=\"gray\")\n",
    "    plt.title(\"Reconstructed\")\n",
    "    plt.axis(\"off\")\n",
    "\n",
    "plt.tight_layout()\n",
    "plt.show()"
   ]
  },
  {
   "cell_type": "code",
   "execution_count": 183,
   "id": "5bfdac45",
   "metadata": {},
   "outputs": [],
   "source": [
    "def extract_coordinates_from_heatmap(heatmap_tensor, threshold=0.5, center=None, degrees=True):\n",
    "    heatmap = heatmap_tensor.squeeze().cpu().numpy()  # (H, W)\n",
    "    H, W = heatmap.shape\n",
    "    binary = (heatmap > threshold).astype(np.uint8)\n",
    "\n",
    "    num_labels, labels, stats, centroids = cv2.connectedComponentsWithStats(binary, connectivity=8)\n",
    "\n",
    "    if center is None:\n",
    "        center = (W // 2, H // 2)\n",
    "\n",
    "    cx, cy = center\n",
    "    polar_coords = []\n",
    "\n",
    "    for i in range(1, num_labels):  # skip background\n",
    "        x, y = centroids[i]\n",
    "        dx, dy = x - cx, y - cy\n",
    "        radius = np.sqrt(dx**2 + dy**2)\n",
    "        angle = np.arctan2(dy, dx)\n",
    "        if degrees:\n",
    "            angle = np.degrees(angle) % 360\n",
    "        polar_coords.append((radius, angle))\n",
    "\n",
    "    # Sort by radius (distance from center)\n",
    "    polar_coords.sort(key=lambda x: x[0])\n",
    "\n",
    "    return polar_coords"
   ]
  },
  {
   "cell_type": "code",
   "execution_count": 205,
   "id": "c7db0e50",
   "metadata": {},
   "outputs": [
    {
     "name": "stdout",
     "output_type": "stream",
     "text": [
      "Detected corners: [(np.float64(62.99269899563113), np.float64(286.88646044673004)), (np.float64(63.30219595166475), np.float64(323.28627928730333)), (np.float64(77.1679577849796), np.float64(283.8256430533655)), (np.float64(80.2755842176661), np.float64(296.31840082638814)), (np.float64(84.02442303769521), np.float64(73.52449027037328)), (np.float64(84.29373989677657), np.float64(187.6003774382115)), (np.float64(89.66894547960054), np.float64(332.0701884190863)), (np.float64(93.38999196473654), np.float64(170.43223258765158))]\n"
     ]
    },
    {
     "data": {
      "image/png": "[encoded data removed]",
      "text/plain": [
       "<Figure size 640x480 with 1 Axes>"
      ]
     },
     "metadata": {},
     "output_type": "display_data"
    }
   ],
   "source": [
    "def predict_image(image_path):\n",
    "    # Load and preprocess image\n",
    "    img = cv2.imread(image_path, cv2.IMREAD_GRAYSCALE).astype(np.float32) / 255.0\n",
    "    img = np.expand_dims(img, axis=0)  # (1, H, W)\n",
    "    img = np.expand_dims(img, axis=0)  # (1, 1, H, W)\n",
    "    img_tensor = torch.tensor(img).to(device)\n",
    "\n",
    "    model.eval()\n",
    "    with torch.no_grad():\n",
    "        output = model(img_tensor)\n",
    "        heatmap = output[0]  # (1, H, W)\n",
    "        corner_coords = extract_coordinates_from_heatmap(heatmap, threshold=0.5)\n",
    "        print(\"Detected corners:\", corner_coords)\n",
    "\n",
    "    output_img = output.cpu().squeeze().numpy()\n",
    "    return output_img\n",
    "\n",
    "# Example usage:\n",
    "result_img = predict_image(\"synthetic_dataset_complex\\sample_0000\\img2.png\")\n",
    "plt.imshow(result_img, cmap=\"gray\")\n",
    "plt.show()"
   ]
  }
 ],
 "metadata": {
  "kernelspec": {
   "display_name": "nlp",
   "language": "python",
   "name": "python3"
  },
  "language_info": {
   "codemirror_mode": {
    "name": "ipython",
    "version": 3
   },
   "file_extension": ".py",
   "mimetype": "text/x-python",
   "name": "python",
   "nbconvert_exporter": "python",
   "pygments_lexer": "ipython3",
   "version": "3.10.16"
  }
 },
 "nbformat": 4,
 "nbformat_minor": 5
}
