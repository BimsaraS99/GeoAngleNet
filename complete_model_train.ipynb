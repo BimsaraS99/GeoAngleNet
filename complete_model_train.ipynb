{
 "cells": [
  {
   "cell_type": "markdown",
   "id": "aec36f1b",
   "metadata": {},
   "source": [
    "### Import Libraries"
   ]
  },
  {
   "cell_type": "code",
   "execution_count": 20,
   "id": "9003586e",
   "metadata": {},
   "outputs": [
    {
     "data": {
      "text/plain": [
       "device(type='cuda')"
      ]
     },
     "execution_count": 20,
     "metadata": {},
     "output_type": "execute_result"
    }
   ],
   "source": [
    "import torch\n",
    "import torch.nn as nn\n",
    "import torch.nn.functional as F\n",
    "import numpy as np\n",
    "import matplotlib.pyplot as plt\n",
    "from torch.utils.data import Dataset, DataLoader, random_split\n",
    "import os\n",
    "import cv2\n",
    "import math\n",
    "\n",
    "device = torch.device(\"cuda\" if torch.cuda.is_available() else \"cpu\")\n",
    "device"
   ]
  },
  {
   "cell_type": "markdown",
   "id": "e8ef04fc",
   "metadata": {},
   "source": [
    "## Load Pre-trained autoencoder"
   ]
  },
  {
   "cell_type": "code",
   "execution_count": 21,
   "id": "e2d4b488",
   "metadata": {},
   "outputs": [],
   "source": [
    "class Autoencoder(nn.Module):\n",
    "    def __init__(self):\n",
    "        super(Autoencoder, self).__init__()\n",
    "\n",
    "        # --- Encoder ---\n",
    "        self.enc1 = nn.Sequential(\n",
    "            nn.Conv2d(1, 16, kernel_size=4, stride=2, padding=1),  # (B, 16, 128, 128)\n",
    "            nn.ReLU()\n",
    "        )\n",
    "        self.enc2 = nn.Sequential(\n",
    "            nn.Conv2d(16, 32, kernel_size=4, stride=2, padding=1),  # (B, 32, 64, 64)\n",
    "            nn.ReLU()\n",
    "        )\n",
    "        self.enc3 = nn.Sequential(\n",
    "            nn.Conv2d(32, 64, kernel_size=4, stride=2, padding=1),  # (B, 64, 32, 32)\n",
    "            nn.ReLU()\n",
    "        )\n",
    "\n",
    "        # --- Decoder ---\n",
    "        self.dec3 = nn.Sequential(\n",
    "            nn.ConvTranspose2d(64, 32, kernel_size=4, stride=2, padding=1),  # (B, 32, 64, 64)\n",
    "            nn.ReLU()\n",
    "        )\n",
    "        self.dec2 = nn.Sequential(\n",
    "            nn.ConvTranspose2d(64, 16, kernel_size=4, stride=2, padding=1),  # (B, 16, 128, 128)\n",
    "            nn.ReLU()\n",
    "        )\n",
    "        self.dec1 = nn.Sequential(\n",
    "            nn.ConvTranspose2d(32, 1, kernel_size=4, stride=2, padding=1),   # (B, 1, 256, 256)\n",
    "            nn.Sigmoid()  # for binary mask reconstruction\n",
    "        )\n",
    "\n",
    "    def forward(self, x):\n",
    "        # --- Encoding ---\n",
    "        x1 = self.enc1(x)  # (B, 16, 128, 128)\n",
    "        x2 = self.enc2(x1) # (B, 32, 64, 64)\n",
    "        x3 = self.enc3(x2) # (B, 64, 32, 32)\n",
    "\n",
    "        # --- Decoding ---\n",
    "        d3 = self.dec3(x3)           # (B, 32, 64, 64)\n",
    "        d3 = torch.cat([d3, x2], 1)  # (B, 64, 64, 64)\n",
    "\n",
    "        d2 = self.dec2(d3)           # (B, 16, 128, 128)\n",
    "        d2 = torch.cat([d2, x1], 1)  # (B, 32, 128, 128)\n",
    "\n",
    "        out = self.dec1(d2)          # (B, 1, 256, 256)\n",
    "        return out\n"
   ]
  },
  {
   "cell_type": "code",
   "execution_count": 22,
   "id": "e0565993",
   "metadata": {},
   "outputs": [
    {
     "name": "stdout",
     "output_type": "stream",
     "text": [
      "Loaded model from epoch 70 with loss 0.0032\n"
     ]
    }
   ],
   "source": [
    "# Reconstruct the model and optimizer exactly as before\n",
    "autoencoder = Autoencoder().to(device)  # match your original config\n",
    "optimizer = torch.optim.Adam(autoencoder.parameters(), lr=1e-3)\n",
    "\n",
    "# Load checkpoint\n",
    "checkpoint = torch.load(\"autoencoder_checkpoint.pth\", map_location=torch.device(device))  # use 'cuda' if needed\n",
    "autoencoder\n",
    "# Restore weights and optimizer state\n",
    "autoencoder.load_state_dict(checkpoint['model_state_dict'])\n",
    "optimizer.load_state_dict(checkpoint['optimizer_state_dict'])\n",
    "start_epoch = checkpoint['epoch']\n",
    "last_loss = checkpoint['loss']\n",
    "\n",
    "autoencoder.eval()  # or model.train() if resuming training\n",
    "\n",
    "print(f\"Loaded model from epoch {start_epoch} with loss {last_loss:.4f}\")\n"
   ]
  },
  {
   "cell_type": "code",
   "execution_count": 23,
   "id": "3bce1022",
   "metadata": {},
   "outputs": [],
   "source": [
    "def extract_coordinates_from_heatmap(heatmap_tensor, threshold=0.8, center=None, degrees=True):\n",
    "    heatmap = heatmap_tensor.squeeze().cpu().numpy()  # (H, W)\n",
    "    H, W = heatmap.shape\n",
    "    binary = (heatmap > threshold).astype(np.uint8)\n",
    "\n",
    "    num_labels, labels, stats, centroids = cv2.connectedComponentsWithStats(binary, connectivity=8)\n",
    "\n",
    "    if center is None:\n",
    "        center = (W // 2, H // 2)\n",
    "\n",
    "    cx, cy = center\n",
    "    polar_coords = []\n",
    "\n",
    "    for i in range(1, num_labels):  # skip background\n",
    "        x, y = centroids[i]\n",
    "        dx, dy = x - cx, y - cy\n",
    "        radius = np.sqrt(dx**2 + dy**2)\n",
    "        angle = np.arctan2(dy, dx)\n",
    "        if degrees:\n",
    "            angle = np.degrees(angle) % 360 # Convert to degrees and normalize to [0, 360)\n",
    "        polar_coords.append((radius, angle))  # Normalize angle to [0, 1]\n",
    "\n",
    "    # Sort by radius (distance from center)\n",
    "    polar_coords.sort(key=lambda x: x[0])\n",
    "\n",
    "    return polar_coords"
   ]
  },
  {
   "cell_type": "code",
   "execution_count": 24,
   "id": "3904e031",
   "metadata": {},
   "outputs": [
    {
     "name": "stdout",
     "output_type": "stream",
     "text": [
      "Detected corners: [(np.float64(52.9963893482435), np.float64(168.26601111148227)), (np.float64(63.146592607386204), np.float64(165.4315019843729)), (np.float64(70.65740783289121), np.float64(246.96112340170006)), (np.float64(72.73158337307561), np.float64(307.3913337407501)), (np.float64(89.66621462597533), np.float64(71.77192898482285))]\n",
      "Length: 5\n"
     ]
    },
    {
     "data": {
      "image/png": "[encoded data removed]",
      "text/plain": [
       "<Figure size 640x480 with 1 Axes>"
      ]
     },
     "metadata": {},
     "output_type": "display_data"
    }
   ],
   "source": [
    "def predict_image(image_path):\n",
    "    # Load and preprocess image\n",
    "    img = cv2.imread(image_path, cv2.IMREAD_GRAYSCALE).astype(np.float32) / 255.0\n",
    "    img = np.expand_dims(img, axis=0)  # (1, H, W)\n",
    "    img = np.expand_dims(img, axis=0)  # (1, 1, H, W)\n",
    "    img_tensor = torch.tensor(img).to(device)\n",
    "\n",
    "    autoencoder.eval()\n",
    "    with torch.no_grad():\n",
    "        output = autoencoder(img_tensor)\n",
    "        heatmap = output[0]  # (1, H, W)\n",
    "        corner_coords = extract_coordinates_from_heatmap(heatmap, threshold=0.75)\n",
    "        print(\"Detected corners:\", corner_coords)\n",
    "        print(\"Length:\", len(corner_coords))\n",
    "\n",
    "    output_img = output.cpu().squeeze().numpy()\n",
    "    return output_img\n",
    "\n",
    "# Example usage:\n",
    "result_img = predict_image(\"synthetic_dataset_complex\\sample_0999\\img1.png\")\n",
    "plt.imshow(result_img, cmap=\"gray\")\n",
    "plt.show()"
   ]
  },
  {
   "cell_type": "code",
   "execution_count": 25,
   "id": "ad45a3fe",
   "metadata": {},
   "outputs": [
    {
     "name": "stdout",
     "output_type": "stream",
     "text": [
      "Detected corners: [(np.float64(63.06139703430592), np.float64(297.23260097450355)), (np.float64(70.54695143509643), np.float64(18.99393886778743)), (np.float64(73.14064544848165), np.float64(79.63615036793678)), (np.float64(89.42094050441676), np.float64(203.74020854265464))]\n",
      "Length: 4\n"
     ]
    },
    {
     "data": {
      "image/png": "[encoded data removed]",
      "text/plain": [
       "<Figure size 640x480 with 1 Axes>"
      ]
     },
     "metadata": {},
     "output_type": "display_data"
    }
   ],
   "source": [
    "def predict_image(image_path):\n",
    "    # Load and preprocess image\n",
    "    img = cv2.imread(image_path, cv2.IMREAD_GRAYSCALE).astype(np.float32) / 255.0\n",
    "    img = np.expand_dims(img, axis=0)  # (1, H, W)\n",
    "    img = np.expand_dims(img, axis=0)  # (1, 1, H, W)\n",
    "    img_tensor = torch.tensor(img).to(device)\n",
    "\n",
    "    autoencoder.eval()\n",
    "    with torch.no_grad():\n",
    "        output = autoencoder(img_tensor)\n",
    "        heatmap = output[0]  # (1, H, W)\n",
    "        corner_coords = extract_coordinates_from_heatmap(heatmap, threshold=0.75)\n",
    "        print(\"Detected corners:\", corner_coords)\n",
    "        print(\"Length:\", len(corner_coords))\n",
    "\n",
    "    output_img = output.cpu().squeeze().numpy()\n",
    "    return output_img\n",
    "\n",
    "# Example usage:\n",
    "result_img = predict_image(\"synthetic_dataset_complex\\sample_0999\\img2.png\")\n",
    "plt.imshow(result_img, cmap=\"gray\")\n",
    "plt.show()"
   ]
  },
  {
   "cell_type": "code",
   "execution_count": 26,
   "id": "5bae0559",
   "metadata": {},
   "outputs": [],
   "source": [
    "def match_point_sets(list1, list2, return_diff=False, max_points=16):\n",
    "    arr1 = np.array(list1, dtype=np.float64)\n",
    "    arr2 = np.array(list2, dtype=np.float64)\n",
    "\n",
    "    if arr1.ndim != 2 or arr2.ndim != 2 or arr1.shape[1] != 2 or arr2.shape[1] != 2:\n",
    "        # Handle empty or malformed input\n",
    "        arr1 = np.zeros((0, 2), dtype=np.float64)\n",
    "        arr2 = np.zeros((0, 2), dtype=np.float64)\n",
    "\n",
    "    arr1 = arr1[arr1[:, 0].argsort()]\n",
    "    arr2 = arr2[arr2[:, 0].argsort()]\n",
    "\n",
    "    if len(arr1) > len(arr2):\n",
    "        arr1, arr2 = arr2, arr1\n",
    "\n",
    "    matched1 = []\n",
    "    matched2 = []\n",
    "    used = set()\n",
    "\n",
    "    for p1 in arr1:\n",
    "        r1, a1 = p1\n",
    "        dists = np.abs(arr2[:, 0] - r1)\n",
    "        for idx in np.argsort(dists):\n",
    "            if idx not in used:\n",
    "                matched1.append((r1, a1))\n",
    "                matched2.append((arr2[idx][0], arr2[idx][1]))\n",
    "                used.add(idx)\n",
    "                break\n",
    "\n",
    "    while len(matched1) < max_points:\n",
    "        matched1.append((0.0, 0.0))\n",
    "        matched2.append((0.0, 0.0))\n",
    "\n",
    "    if return_diff:\n",
    "        return [(r1 - r2, a1 - a2) for (r1, a1), (r2, a2) in zip(matched1, matched2)]\n",
    "    else:\n",
    "        return matched1, matched2"
   ]
  },
  {
   "cell_type": "code",
   "execution_count": 27,
   "id": "c5bc1093",
   "metadata": {},
   "outputs": [
    {
     "data": {
      "text/plain": [
       "[(np.float64(-0.08519557308028425), np.float64(131.80109899013067)),\n",
       " (np.float64(-0.11045639779477767), np.float64(-227.96718453391264)),\n",
       " (np.float64(0.409062075406041), np.float64(-227.75518337281332)),\n",
       " (np.float64(-0.2452741215585661), np.float64(131.9682795578318)),\n",
       " (0.0, 0.0),\n",
       " (0.0, 0.0),\n",
       " (0.0, 0.0),\n",
       " (0.0, 0.0),\n",
       " (0.0, 0.0),\n",
       " (0.0, 0.0),\n",
       " (0.0, 0.0),\n",
       " (0.0, 0.0),\n",
       " (0.0, 0.0),\n",
       " (0.0, 0.0),\n",
       " (0.0, 0.0),\n",
       " (0.0, 0.0)]"
      ]
     },
     "execution_count": 27,
     "metadata": {},
     "output_type": "execute_result"
    }
   ],
   "source": [
    "l1 = [(np.float64(63.06139703430592), np.float64(297.23260097450355)), (np.float64(70.54695143509643), np.float64(18.99393886778743)), (np.float64(73.14064544848165), np.float64(79.63615036793678)), (np.float64(89.42094050441676), np.float64(203.74020854265464))]\n",
    "l2 = [(np.float64(52.9963893482435), np.float64(168.26601111148227)), (np.float64(63.146592607386204), np.float64(165.4315019843729)), (np.float64(70.65740783289121), np.float64(246.96112340170006)), (np.float64(72.73158337307561), np.float64(307.3913337407501)), (np.float64(89.66621462597533), np.float64(71.77192898482285))]\n",
    "\n",
    "match_point_sets(l1, l2, return_diff=True)"
   ]
  },
  {
   "cell_type": "markdown",
   "id": "85db8eb8",
   "metadata": {},
   "source": [
    "## Train Regression Model"
   ]
  },
  {
   "cell_type": "markdown",
   "id": "51b2740a",
   "metadata": {},
   "source": [
    "Load dataset"
   ]
  },
  {
   "cell_type": "code",
   "execution_count": null,
   "id": "c4d35f86",
   "metadata": {},
   "outputs": [],
   "source": [
    "class AutoencoderDataset(Dataset):\n",
    "    def __init__(self, root_dir, image_type1=\"img1.png\", image_type2=\"img2.png\", transform=None):\n",
    "        self.root_dir = root_dir\n",
    "        self.sample_dirs = sorted([\n",
    "            os.path.join(root_dir, d) for d in os.listdir(root_dir)\n",
    "            if os.path.isdir(os.path.join(root_dir, d))\n",
    "        ])\n",
    "        self.image_type1 = image_type1\n",
    "        self.image_type2 = image_type2\n",
    "        self.transform = transform\n",
    "\n",
    "    def __len__(self):\n",
    "        return len(self.sample_dirs)\n",
    "\n",
    "    def __getitem__(self, idx):\n",
    "        sample_path = self.sample_dirs[idx]\n",
    "        img1_path = os.path.join(sample_path, self.image_type1)\n",
    "        img2_path = os.path.join(sample_path, self.image_type2)\n",
    "\n",
    "        img1 = cv2.imread(img1_path, cv2.IMREAD_GRAYSCALE).astype(np.float32) / 255.0\n",
    "        img2 = cv2.imread(img2_path, cv2.IMREAD_GRAYSCALE).astype(np.float32) / 255.0\n",
    "\n",
    "        img1 = np.expand_dims(img1, axis=0)  # (1, H, W)\n",
    "        img2 = np.expand_dims(img2, axis=0)  # (1, H, W)\n",
    "\n",
    "        if self.transform:\n",
    "            img1 = self.transform(img1)\n",
    "            img2 = self.transform(img2)\n",
    "\n",
    "        img1 = torch.tensor(img1, dtype=torch.float32)\n",
    "        img2 = torch.tensor(img2, dtype=torch.float32)\n",
    "\n",
    "        # Load and convert angle\n",
    "        angle_path = os.path.join(sample_path, \"angle.txt\")\n",
    "        if os.path.exists(angle_path):\n",
    "            with open(angle_path, \"r\") as f:\n",
    "                angle = float(f.read().strip())\n",
    "                # make angle always positive\n",
    "                ang = abs(np.sin(np.deg2rad(angle)))\n",
    "            angle_tensor = torch.tensor(ang, dtype=torch.float32)\n",
    "        else:\n",
    "            raise FileNotFoundError(f\"{angle_path} not found.\")\n",
    "\n",
    "        return img1, img2, angle_tensor"
   ]
  },
  {
   "cell_type": "markdown",
   "id": "6d3451d3",
   "metadata": {},
   "source": [
    "Split train and validation sets"
   ]
  },
  {
   "cell_type": "code",
   "execution_count": 29,
   "id": "0780789e",
   "metadata": {},
   "outputs": [],
   "source": [
    "dataset = AutoencoderDataset(root_dir=\"synthetic_dataset_complex\")\n",
    "\n",
    "# Define split ratio\n",
    "val_ratio = 0.2  # 20% for validation\n",
    "total_size = len(dataset)\n",
    "val_size = int(total_size * val_ratio)\n",
    "train_size = total_size - val_size\n",
    "\n",
    "# Randomly split the dataset\n",
    "train_dataset, val_dataset = random_split(dataset, [train_size, val_size])\n",
    "\n",
    "# Create DataLoaders\n",
    "train_loader = DataLoader(train_dataset, batch_size=32, shuffle=True)\n",
    "val_loader = DataLoader(val_dataset, batch_size=32, shuffle=False)"
   ]
  },
  {
   "cell_type": "markdown",
   "id": "a036df4a",
   "metadata": {},
   "source": [
    "Quick check on loader"
   ]
  },
  {
   "cell_type": "code",
   "execution_count": 30,
   "id": "b4a1a440",
   "metadata": {},
   "outputs": [
    {
     "name": "stdout",
     "output_type": "stream",
     "text": [
      "torch.Size([32, 1, 256, 256]) torch.Size([32, 1, 256, 256]) torch.Size([32])\n"
     ]
    }
   ],
   "source": [
    "for img1, img2, angle in train_loader:\n",
    "    print(img1.shape, img2.shape, angle.shape)\n",
    "    break"
   ]
  },
  {
   "cell_type": "markdown",
   "id": "d1d45850",
   "metadata": {},
   "source": [
    "Define model"
   ]
  },
  {
   "cell_type": "code",
   "execution_count": 31,
   "id": "6738f879",
   "metadata": {},
   "outputs": [],
   "source": [
    "def extract_coordinates_from_heatmap(heatmap_tensor, threshold=0.8, center=None, degrees=True):\n",
    "    heatmap = heatmap_tensor.squeeze().cpu().numpy()  # (H, W)\n",
    "    H, W = heatmap.shape\n",
    "    binary = (heatmap > threshold).astype(np.uint8)\n",
    "\n",
    "    num_labels, labels, stats, centroids = cv2.connectedComponentsWithStats(binary, connectivity=8)\n",
    "\n",
    "    if center is None:\n",
    "        center = (W // 2, H // 2)\n",
    "\n",
    "    cx, cy = center\n",
    "    polar_coords = []\n",
    "\n",
    "    for i in range(1, num_labels):  # skip background\n",
    "        x, y = centroids[i]\n",
    "        dx, dy = x - cx, y - cy\n",
    "        radius = np.sqrt(dx**2 + dy**2)\n",
    "        angle = np.arctan2(dy, dx)\n",
    "        if degrees:\n",
    "            angle = np.degrees(angle) % 360 # Convert to degrees and normalize to [0, 360)\n",
    "        polar_coords.append((radius, angle))  # Normalize angle to [0, 1]\n",
    "\n",
    "    # Sort by radius (distance from center)\n",
    "    polar_coords.sort(key=lambda x: x[0])\n",
    "\n",
    "    return polar_coords\n",
    "\n",
    "\n",
    "def match_point_sets(list1, list2, return_diff=False, max_points=16):\n",
    "    arr1 = np.array(list1, dtype=np.float64)\n",
    "    arr2 = np.array(list2, dtype=np.float64)\n",
    "\n",
    "    if arr1.ndim != 2 or arr2.ndim != 2 or arr1.shape[1] != 2 or arr2.shape[1] != 2:\n",
    "        arr1 = np.zeros((0, 2), dtype=np.float64)\n",
    "        arr2 = np.zeros((0, 2), dtype=np.float64)\n",
    "\n",
    "    arr1 = arr1[arr1[:, 0].argsort()]\n",
    "    arr2 = arr2[arr2[:, 0].argsort()]\n",
    "\n",
    "    if len(arr1) > len(arr2):\n",
    "        arr1, arr2 = arr2, arr1\n",
    "\n",
    "    matched1 = []\n",
    "    matched2 = []\n",
    "    used = set()\n",
    "\n",
    "    for p1 in arr1:\n",
    "        r1, a1 = p1\n",
    "        dists = np.abs(arr2[:, 0] - r1)\n",
    "        for idx in np.argsort(dists):\n",
    "            if idx not in used:\n",
    "                matched1.append((r1, a1))\n",
    "                matched2.append((arr2[idx][0], arr2[idx][1]))\n",
    "                used.add(idx)\n",
    "                break\n",
    "\n",
    "    while len(matched1) < max_points:\n",
    "        matched1.append((0.0, 0.0))\n",
    "        matched2.append((0.0, 0.0))\n",
    "\n",
    "    if return_diff:\n",
    "        return [(r1 - r2, abs(math.sin(math.radians(a1 - a2)))) for (r1, a1), (r2, a2) in zip(matched1, matched2)]\n",
    "    else:\n",
    "        return matched1, matched2"
   ]
  },
  {
   "cell_type": "code",
   "execution_count": 32,
   "id": "91df3f74",
   "metadata": {},
   "outputs": [],
   "source": [
    "class Regressor(nn.Module):\n",
    "    def __init__(self, autoencoder, max_points=16):\n",
    "        super(Regressor, self).__init__()\n",
    "        self.encoder = autoencoder\n",
    "        self.max_points = max_points\n",
    "\n",
    "        self.regressor = nn.Sequential(\n",
    "            nn.Linear(max_points * 2, 32),\n",
    "            nn.ReLU(),\n",
    "            nn.Linear(32, 8),\n",
    "            nn.ReLU(),\n",
    "            nn.Linear(8, 1)\n",
    "        )\n",
    "\n",
    "    def extract_polar_coords(self, x):\n",
    "        self.encoder.eval()\n",
    "        with torch.no_grad():\n",
    "            heatmap = self.encoder(x)[0][0]  # shape: (1, H, W)\n",
    "\n",
    "        polar_coords = extract_coordinates_from_heatmap(\n",
    "            heatmap, threshold=0.75, degrees=True\n",
    "        )\n",
    "\n",
    "        # Sort and convert angle to sin(θ)\n",
    "        polar_coords = sorted(polar_coords, key=lambda p: p[0])\n",
    "        polar_coords = [(r, a) for r, a in polar_coords]\n",
    "\n",
    "        return polar_coords\n",
    "\n",
    "    def forward(self, x1, x2):\n",
    "        batch_size = x1.size(0)\n",
    "        outputs = []\n",
    "\n",
    "        for i in range(batch_size):\n",
    "            coords1 = self.extract_polar_coords(x1[i].unsqueeze(0))\n",
    "            coords2 = self.extract_polar_coords(x2[i].unsqueeze(0))\n",
    "\n",
    "            # Get difference vector only\n",
    "            diffs = match_point_sets(coords1, coords2, return_diff=True, max_points=self.max_points)\n",
    "\n",
    "            # Convert to tensor\n",
    "            diff_tensor = torch.tensor(diffs, dtype=torch.float32, device=x1.device).flatten()\n",
    "            outputs.append(diff_tensor)\n",
    "\n",
    "        features = torch.stack(outputs, dim=0)  # (B, max_points * 2)\n",
    "        sin_pred = self.regressor(features).squeeze(1)  # (B,)\n",
    "        return sin_pred"
   ]
  },
  {
   "cell_type": "markdown",
   "id": "c6001020",
   "metadata": {},
   "source": [
    "Hyper parameters"
   ]
  },
  {
   "cell_type": "code",
   "execution_count": 33,
   "id": "4fbdce06",
   "metadata": {},
   "outputs": [],
   "source": [
    "num_epochs = 40\n",
    "learning_rate = 1e-3\n",
    "\n",
    "model = Regressor(autoencoder=autoencoder).to(device)\n",
    "criterion = nn.MSELoss()\n",
    "optimizer = torch.optim.Adam(model.parameters(), lr=learning_rate)"
   ]
  },
  {
   "cell_type": "markdown",
   "id": "e06e9d27",
   "metadata": {},
   "source": [
    "Quick test on model"
   ]
  },
  {
   "cell_type": "code",
   "execution_count": null,
   "id": "3dec400f",
   "metadata": {},
   "outputs": [
    {
     "name": "stdout",
     "output_type": "stream",
     "text": [
      "Predicted sin(angle): [0.36242247 0.17890845 0.20127444 0.19509277 0.34060568 0.18108653\n",
      " 0.19285744 0.17276019 0.16024074 0.19875138 0.17374687 0.3034175\n",
      " 0.16103885 0.17029253 0.1947535  0.15765493 0.17107476 0.16583869\n",
      " 1.4930651  0.17927516 0.18189837 0.16104713 0.24825999 1.112885\n",
      " 0.16996166 0.21893907 0.20392257 0.18459705 0.15353514 0.1814269\n",
      " 0.17422265 0.17136389]\n",
      "Target sin(angle):    [0.39828095 0.12503092 0.19894227 0.98657745 0.99814284 0.1651657\n",
      " 0.80509555 0.73438936 0.27858955 0.9989848  0.41984212 0.64172685\n",
      " 0.9996741  0.57389474 0.8361135  0.53700686 0.7176399  0.5974777\n",
      " 0.6191634  0.751292   0.8899443  0.57503176 0.8260363  0.9933142\n",
      " 0.01650792 0.17193504 0.919763   0.81584114 0.69185597 0.73800725\n",
      " 0.31821737 0.7563031 ]\n",
      "Loss: 0.265633\n"
     ]
    }
   ],
   "source": [
    "model.train()\n",
    "\n",
    "# Get one batch\n",
    "for img1, img2, target_sin in train_loader:\n",
    "    img1 = img1.to(device)\n",
    "    img2 = img2.to(device)\n",
    "    target_sin = target_sin.to(device)\n",
    "\n",
    "    optimizer.zero_grad()\n",
    "\n",
    "    # Forward pass\n",
    "    pred_sin = model(img1, img2)\n",
    "\n",
    "    # Print predictions and targets\n",
    "    print(\"Predicted sin(angle):\", pred_sin.detach().cpu().numpy())\n",
    "    print(\"Target sin(angle):   \", target_sin.detach().cpu().numpy())\n",
    "\n",
    "    # Compute loss\n",
    "    loss = criterion(pred_sin, target_sin)\n",
    "    print(f\"Loss: {loss.item():.6f}\")\n",
    "\n",
    "    # Backprop\n",
    "    loss.backward()\n",
    "    optimizer.step()\n",
    "\n",
    "    break  # Just test one batch\n"
   ]
  },
  {
   "cell_type": "markdown",
   "id": "b617ef33",
   "metadata": {},
   "source": [
    "Train the model"
   ]
  },
  {
   "cell_type": "code",
   "execution_count": 35,
   "id": "dac7c1fb",
   "metadata": {},
   "outputs": [
    {
     "name": "stdout",
     "output_type": "stream",
     "text": [
      "Epoch [1/40] - Train Loss: 0.242934 | Val Loss: 0.145696\n",
      "\n",
      "Epoch [2/40] - Train Loss: 0.104039 | Val Loss: 0.042923\n",
      "\n",
      "Epoch [3/40] - Train Loss: 0.048342 | Val Loss: 0.034412\n",
      "\n",
      "Epoch [4/40] - Train Loss: 0.037296 | Val Loss: 0.030356\n",
      "\n",
      "Epoch [5/40] - Train Loss: 0.031735 | Val Loss: 0.026523\n",
      "\n",
      "Epoch [6/40] - Train Loss: 0.027901 | Val Loss: 0.023850\n",
      "\n",
      "Epoch [7/40] - Train Loss: 0.024703 | Val Loss: 0.021590\n",
      "\n",
      "Epoch [8/40] - Train Loss: 0.022246 | Val Loss: 0.020071\n",
      "\n",
      "Epoch [9/40] - Train Loss: 0.019903 | Val Loss: 0.018473\n",
      "\n",
      "Epoch [10/40] - Train Loss: 0.018052 | Val Loss: 0.017516\n",
      "\n",
      "Epoch [11/40] - Train Loss: 0.016616 | Val Loss: 0.016605\n",
      "\n",
      "Epoch [12/40] - Train Loss: 0.015455 | Val Loss: 0.016125\n",
      "\n",
      "Epoch [13/40] - Train Loss: 0.014412 | Val Loss: 0.015463\n",
      "\n",
      "Epoch [14/40] - Train Loss: 0.013604 | Val Loss: 0.015344\n",
      "\n",
      "Epoch [15/40] - Train Loss: 0.013108 | Val Loss: 0.015619\n",
      "\n",
      "Epoch [16/40] - Train Loss: 0.012711 | Val Loss: 0.014409\n",
      "\n",
      "Epoch [17/40] - Train Loss: 0.012141 | Val Loss: 0.014882\n",
      "\n",
      "Epoch [18/40] - Train Loss: 0.011956 | Val Loss: 0.014843\n",
      "\n",
      "Epoch [19/40] - Train Loss: 0.011145 | Val Loss: 0.014299\n",
      "\n",
      "Epoch [20/40] - Train Loss: 0.010865 | Val Loss: 0.014405\n",
      "\n",
      "Epoch [21/40] - Train Loss: 0.010645 | Val Loss: 0.014481\n",
      "\n",
      "Epoch [22/40] - Train Loss: 0.010351 | Val Loss: 0.014515\n",
      "\n",
      "Epoch [23/40] - Train Loss: 0.010046 | Val Loss: 0.014387\n",
      "\n",
      "Epoch [24/40] - Train Loss: 0.009791 | Val Loss: 0.014345\n",
      "\n",
      "Epoch [25/40] - Train Loss: 0.009556 | Val Loss: 0.014591\n",
      "\n",
      "Epoch [26/40] - Train Loss: 0.009663 | Val Loss: 0.014272\n",
      "\n",
      "Epoch [27/40] - Train Loss: 0.009316 | Val Loss: 0.014800\n",
      "\n",
      "Epoch [28/40] - Train Loss: 0.009112 | Val Loss: 0.015034\n",
      "\n",
      "Epoch [29/40] - Train Loss: 0.008963 | Val Loss: 0.014802\n",
      "\n",
      "Epoch [30/40] - Train Loss: 0.008637 | Val Loss: 0.014722\n",
      "\n",
      "Epoch [31/40] - Train Loss: 0.008472 | Val Loss: 0.014979\n",
      "\n",
      "Epoch [32/40] - Train Loss: 0.008352 | Val Loss: 0.015151\n",
      "\n",
      "Epoch [33/40] - Train Loss: 0.008203 | Val Loss: 0.014735\n",
      "\n",
      "Epoch [34/40] - Train Loss: 0.008214 | Val Loss: 0.015700\n",
      "\n",
      "Epoch [35/40] - Train Loss: 0.008282 | Val Loss: 0.015365\n",
      "\n",
      "Epoch [36/40] - Train Loss: 0.008004 | Val Loss: 0.015128\n",
      "\n",
      "Epoch [37/40] - Train Loss: 0.007958 | Val Loss: 0.015689\n",
      "\n",
      "Epoch [38/40] - Train Loss: 0.007868 | Val Loss: 0.015858\n",
      "\n",
      "Epoch [39/40] - Train Loss: 0.007743 | Val Loss: 0.015738\n",
      "\n",
      "Epoch [40/40] - Train Loss: 0.007700 | Val Loss: 0.015967\n",
      "\n"
     ]
    }
   ],
   "source": [
    "model.train()\n",
    "\n",
    "for epoch in range(1, num_epochs + 1):\n",
    "    total_train_loss = 0.0\n",
    "\n",
    "    for img1, img2, target_sin in train_loader:\n",
    "        img1 = img1.to(device)\n",
    "        img2 = img2.to(device)\n",
    "        target_sin = target_sin.to(device)\n",
    "\n",
    "        optimizer.zero_grad()\n",
    "\n",
    "        # Forward pass\n",
    "        pred_sin = model(img1, img2)\n",
    "        loss = criterion(pred_sin, target_sin)\n",
    "\n",
    "        # Backward + optimize\n",
    "        loss.backward()\n",
    "        optimizer.step()\n",
    "\n",
    "        total_train_loss += loss.item() * img1.size(0)\n",
    "\n",
    "    avg_train_loss = total_train_loss / len(train_loader.dataset)\n",
    "\n",
    "    # -------------------------\n",
    "    # Validation\n",
    "    # -------------------------\n",
    "    model.eval()\n",
    "    total_val_loss = 0.0\n",
    "\n",
    "    with torch.no_grad():\n",
    "        for img1, img2, target_sin in val_loader:\n",
    "            img1 = img1.to(device)\n",
    "            img2 = img2.to(device)\n",
    "            target_sin = target_sin.to(device)\n",
    "\n",
    "            pred_sin = model(img1, img2)\n",
    "            val_loss = criterion(pred_sin, target_sin)\n",
    "\n",
    "            total_val_loss += val_loss.item() * img1.size(0)\n",
    "\n",
    "    avg_val_loss = total_val_loss / len(val_loader.dataset)\n",
    "\n",
    "    # -------------------------\n",
    "    # Logging\n",
    "    # -------------------------\n",
    "    print(f\"Epoch [{epoch}/{num_epochs}] - Train Loss: {avg_train_loss:.6f} | Val Loss: {avg_val_loss:.6f}\\n\")\n",
    "\n",
    "    model.train()  # back to train mode\n"
   ]
  },
  {
   "cell_type": "markdown",
   "id": "540021ff",
   "metadata": {},
   "source": [
    "save model for future use"
   ]
  },
  {
   "cell_type": "code",
   "execution_count": 49,
   "id": "cf162b9c",
   "metadata": {},
   "outputs": [
    {
     "name": "stdout",
     "output_type": "stream",
     "text": [
      "Model saved to regressor_checkpoint.pth\n"
     ]
    }
   ],
   "source": [
    "# Save the trained regressor model and optimizer state\n",
    "save_path = \"regressor_checkpoint.pth\"\n",
    "torch.save({\n",
    "    'epoch': num_epochs,\n",
    "    'model_state_dict': model.state_dict(),\n",
    "    'optimizer_state_dict': optimizer.state_dict(),\n",
    "    'loss': loss.item(),\n",
    "}, save_path)\n",
    "print(f\"Model saved to {save_path}\")"
   ]
  },
  {
   "cell_type": "markdown",
   "id": "317df596",
   "metadata": {},
   "source": [
    "Quick validation"
   ]
  },
  {
   "cell_type": "code",
   "execution_count": 45,
   "id": "71768901",
   "metadata": {},
   "outputs": [
    {
     "name": "stdout",
     "output_type": "stream",
     "text": [
      "Predicted sin(angle): [0.9288186  0.715096   0.6826155  0.5892995  0.19294569 0.4205793\n",
      " 0.6947396  0.6965374  0.6418415  0.8314353  1.0433773  0.6494738\n",
      " 0.965242   0.6097441  0.8697081  0.88934785 0.72226834 0.18093586\n",
      " 0.9690845  0.42696524 0.11926773 1.035015   1.0809798  0.69185126\n",
      " 0.84391725 0.10949025 0.13993803 0.7306948  1.0320096  0.90602326\n",
      " 1.0435666  0.23117271]\n",
      "Target sin(angle):    [0.8444729  0.67799723 0.6099028  0.54161114 0.17169821 0.4046464\n",
      " 0.689502   0.66566664 0.61674905 0.9118132  0.9599513  0.6751295\n",
      " 0.9201357  0.61277276 0.8338348  0.86438    0.6716339  0.24072495\n",
      " 0.9909794  0.399772   0.07235783 0.9854501  0.9992762  0.7402945\n",
      " 0.95877373 0.03746409 0.11192022 0.7248968  0.96695375 0.91759735\n",
      " 0.99990815 0.13713485]\n",
      "Loss: 0.002867\n"
     ]
    }
   ],
   "source": [
    "# Set model to train mode\n",
    "model.eval()\n",
    "\n",
    "# Get one batch\n",
    "for img1, img2, target_sin in val_loader:\n",
    "    img1 = img1.to(device)\n",
    "    img2 = img2.to(device)\n",
    "    target_sin = target_sin.to(device)\n",
    "\n",
    "    optimizer.zero_grad()\n",
    "\n",
    "    # Forward pass\n",
    "    pred_sin = model(img1, img2)\n",
    "\n",
    "    # Print predictions and targets\n",
    "    print(\"Predicted sin(angle):\", pred_sin.detach().cpu().numpy())\n",
    "    print(\"Target sin(angle):   \", target_sin.detach().cpu().numpy())\n",
    "\n",
    "    # Compute loss\n",
    "    loss = criterion(pred_sin, target_sin)\n",
    "    print(f\"Loss: {loss.item():.6f}\")\n",
    "\n",
    "    # Backprop\n",
    "    loss.backward()\n",
    "    optimizer.step()\n",
    "\n",
    "    break  # Just test one batch\n"
   ]
  },
  {
   "cell_type": "markdown",
   "id": "57e1c7c1",
   "metadata": {},
   "source": [
    "Inference "
   ]
  },
  {
   "cell_type": "code",
   "execution_count": 46,
   "id": "2e09cf51",
   "metadata": {},
   "outputs": [],
   "source": [
    "def preprocess_image(image_path):\n",
    "    img = cv2.imread(image_path, cv2.IMREAD_GRAYSCALE).astype(np.float32) / 255.0\n",
    "    img = np.expand_dims(img, axis=0)  # (1, H, W)\n",
    "    img = np.expand_dims(img, axis=0)  # (1, 1, H, W)\n",
    "    return torch.tensor(img, dtype=torch.float32).to(device)\n",
    "\n",
    "def predict_angle_from_images(path1, path2, model, show=True):\n",
    "    model.eval()\n",
    "\n",
    "    # Load and preprocess\n",
    "    img1 = preprocess_image(path1)\n",
    "    img2 = preprocess_image(path2)\n",
    "\n",
    "    with torch.no_grad():\n",
    "        pred_sin = model(img1, img2).item()\n",
    "\n",
    "    # Clip to valid range just in case\n",
    "    pred_sin = max(-1.0, min(1.0, pred_sin))\n",
    "\n",
    "    # Convert sin(θ) → θ (in degrees)\n",
    "    angle_rad = math.asin(pred_sin)\n",
    "    angle_deg = math.degrees(angle_rad)\n",
    "\n",
    "    # Normalize to [0, 360)\n",
    "    angle_deg = angle_deg % 360\n",
    "\n",
    "    print(f\"Predicted angle: {angle_deg:.2f}° (sin value: {pred_sin:.4f})\")\n",
    "\n",
    "    if show:\n",
    "        img1_np = cv2.imread(path1, cv2.IMREAD_GRAYSCALE)\n",
    "        img2_np = cv2.imread(path2, cv2.IMREAD_GRAYSCALE)\n",
    "\n",
    "        fig, axs = plt.subplots(1, 2, figsize=(8, 4))\n",
    "        axs[0].imshow(img1_np, cmap='gray')\n",
    "        axs[0].set_title(\"Image 1\")\n",
    "        axs[0].axis('off')\n",
    "\n",
    "        axs[1].imshow(img2_np, cmap='gray')\n",
    "        axs[1].set_title(\"Image 2\")\n",
    "        axs[1].axis('off')\n",
    "\n",
    "        plt.suptitle(f\"Predicted Angle: {angle_deg:.2f}°\", fontsize=14)\n",
    "        plt.tight_layout()\n",
    "        plt.show()\n",
    "\n",
    "    return angle_deg\n"
   ]
  },
  {
   "cell_type": "code",
   "execution_count": 48,
   "id": "9ca7bc87",
   "metadata": {},
   "outputs": [
    {
     "name": "stdout",
     "output_type": "stream",
     "text": [
      "Predicted angle: 90.00° (sin value: 1.0000)\n"
     ]
    },
    {
     "data": {
      "image/png": "[encoded data removed]",
      "text/plain": [
       "<Figure size 800x400 with 2 Axes>"
      ]
     },
     "metadata": {},
     "output_type": "display_data"
    }
   ],
   "source": [
    "angle = predict_angle_from_images(\n",
    "    \"synthetic_dataset_complex/sample_0002/img1.png\",\n",
    "    \"synthetic_dataset_complex/sample_0002/img2.png\",\n",
    "    model\n",
    ")\n"
   ]
  }
 ],
 "metadata": {
  "kernelspec": {
   "display_name": "nlp",
   "language": "python",
   "name": "python3"
  },
  "language_info": {
   "codemirror_mode": {
    "name": "ipython",
    "version": 3
   },
   "file_extension": ".py",
   "mimetype": "text/x-python",
   "name": "python",
   "nbconvert_exporter": "python",
   "pygments_lexer": "ipython3",
   "version": "3.10.16"
  }
 },
 "nbformat": 4,
 "nbformat_minor": 5
}
