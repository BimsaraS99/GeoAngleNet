{
 "cells": [
  {
   "cell_type": "markdown",
   "id": "aec36f1b",
   "metadata": {},
   "source": [
    "### Import Libraries"
   ]
  },
  {
   "cell_type": "code",
   "execution_count": 1,
   "id": "9003586e",
   "metadata": {},
   "outputs": [
    {
     "data": {
      "text/plain": [
       "device(type='cuda')"
      ]
     },
     "execution_count": 1,
     "metadata": {},
     "output_type": "execute_result"
    }
   ],
   "source": [
    "import torch\n",
    "import torch.nn as nn\n",
    "import torch.nn.functional as F\n",
    "from PIL import Image\n",
    "import numpy as np\n",
    "import matplotlib.pyplot as plt\n",
    "from torch.utils.data import Dataset, DataLoader, random_split\n",
    "import os\n",
    "from torchvision import transforms\n",
    "import torch.optim as optim\n",
    "import cv2\n",
    "import math\n",
    "from tqdm import tqdm\n",
    "\n",
    "device = torch.device(\"cuda\" if torch.cuda.is_available() else \"cpu\")\n",
    "device"
   ]
  },
  {
   "cell_type": "markdown",
   "id": "e8ef04fc",
   "metadata": {},
   "source": [
    "## Load Pre-trained autoencoder"
   ]
  },
  {
   "cell_type": "code",
   "execution_count": 2,
   "id": "e2d4b488",
   "metadata": {},
   "outputs": [],
   "source": [
    "class Autoencoder(nn.Module):\n",
    "    def __init__(self):\n",
    "        super(Autoencoder, self).__init__()\n",
    "\n",
    "        # --- Encoder ---\n",
    "        self.enc1 = nn.Sequential(\n",
    "            nn.Conv2d(1, 16, kernel_size=4, stride=2, padding=1),  # (B, 16, 128, 128)\n",
    "            nn.ReLU()\n",
    "        )\n",
    "        self.enc2 = nn.Sequential(\n",
    "            nn.Conv2d(16, 32, kernel_size=4, stride=2, padding=1),  # (B, 32, 64, 64)\n",
    "            nn.ReLU()\n",
    "        )\n",
    "        self.enc3 = nn.Sequential(\n",
    "            nn.Conv2d(32, 64, kernel_size=4, stride=2, padding=1),  # (B, 64, 32, 32)\n",
    "            nn.ReLU()\n",
    "        )\n",
    "\n",
    "        # --- Decoder ---\n",
    "        self.dec3 = nn.Sequential(\n",
    "            nn.ConvTranspose2d(64, 32, kernel_size=4, stride=2, padding=1),  # (B, 32, 64, 64)\n",
    "            nn.ReLU()\n",
    "        )\n",
    "        self.dec2 = nn.Sequential(\n",
    "            nn.ConvTranspose2d(64, 16, kernel_size=4, stride=2, padding=1),  # (B, 16, 128, 128)\n",
    "            nn.ReLU()\n",
    "        )\n",
    "        self.dec1 = nn.Sequential(\n",
    "            nn.ConvTranspose2d(32, 1, kernel_size=4, stride=2, padding=1),   # (B, 1, 256, 256)\n",
    "            nn.Sigmoid()  # for binary mask reconstruction\n",
    "        )\n",
    "\n",
    "    def forward(self, x):\n",
    "        # --- Encoding ---\n",
    "        x1 = self.enc1(x)  # (B, 16, 128, 128)\n",
    "        x2 = self.enc2(x1) # (B, 32, 64, 64)\n",
    "        x3 = self.enc3(x2) # (B, 64, 32, 32)\n",
    "\n",
    "        # --- Decoding ---\n",
    "        d3 = self.dec3(x3)           # (B, 32, 64, 64)\n",
    "        d3 = torch.cat([d3, x2], 1)  # (B, 64, 64, 64)\n",
    "\n",
    "        d2 = self.dec2(d3)           # (B, 16, 128, 128)\n",
    "        d2 = torch.cat([d2, x1], 1)  # (B, 32, 128, 128)\n",
    "\n",
    "        out = self.dec1(d2)          # (B, 1, 256, 256)\n",
    "        return out\n"
   ]
  },
  {
   "cell_type": "code",
   "execution_count": 3,
   "id": "e0565993",
   "metadata": {},
   "outputs": [
    {
     "name": "stdout",
     "output_type": "stream",
     "text": [
      "Loaded model from epoch 70 with loss 0.0032\n"
     ]
    }
   ],
   "source": [
    "# Reconstruct the model and optimizer exactly as before\n",
    "autoencoder = Autoencoder().to(device)  # match your original config\n",
    "optimizer = torch.optim.Adam(autoencoder.parameters(), lr=1e-3)\n",
    "\n",
    "# Load checkpoint\n",
    "checkpoint = torch.load(\"autoencoder_checkpoint.pth\", map_location=torch.device(device))  # use 'cuda' if needed\n",
    "autoencoder\n",
    "# Restore weights and optimizer state\n",
    "autoencoder.load_state_dict(checkpoint['model_state_dict'])\n",
    "optimizer.load_state_dict(checkpoint['optimizer_state_dict'])\n",
    "start_epoch = checkpoint['epoch']\n",
    "last_loss = checkpoint['loss']\n",
    "\n",
    "autoencoder.eval()  # or model.train() if resuming training\n",
    "\n",
    "print(f\"Loaded model from epoch {start_epoch} with loss {last_loss:.4f}\")\n"
   ]
  },
  {
   "cell_type": "code",
   "execution_count": 241,
   "id": "3bce1022",
   "metadata": {},
   "outputs": [],
   "source": [
    "def extract_coordinates_from_heatmap(heatmap_tensor, threshold=0.8, center=None, degrees=True):\n",
    "    heatmap = heatmap_tensor.squeeze().cpu().numpy()  # (H, W)\n",
    "    H, W = heatmap.shape\n",
    "    binary = (heatmap > threshold).astype(np.uint8)\n",
    "\n",
    "    num_labels, labels, stats, centroids = cv2.connectedComponentsWithStats(binary, connectivity=8)\n",
    "\n",
    "    if center is None:\n",
    "        center = (W // 2, H // 2)\n",
    "\n",
    "    cx, cy = center\n",
    "    polar_coords = []\n",
    "\n",
    "    for i in range(1, num_labels):  # skip background\n",
    "        x, y = centroids[i]\n",
    "        dx, dy = x - cx, y - cy\n",
    "        radius = np.sqrt(dx**2 + dy**2)\n",
    "        angle = np.arctan2(dy, dx)\n",
    "        if degrees:\n",
    "            angle = np.degrees(angle) % 360 # Convert to degrees and normalize to [0, 360)\n",
    "        polar_coords.append((radius, angle/ 360.0))  # Normalize angle to [0, 1]\n",
    "\n",
    "    # Sort by radius (distance from center)\n",
    "    polar_coords.sort(key=lambda x: x[0])\n",
    "\n",
    "    return polar_coords"
   ]
  },
  {
   "cell_type": "code",
   "execution_count": 242,
   "id": "fce86331",
   "metadata": {},
   "outputs": [
    {
     "name": "stdout",
     "output_type": "stream",
     "text": [
      "Detected corners: [(np.float64(5.024937810560445), np.float64(0.7658627587152768)), (np.float64(6.098907762893036), np.float64(0.19097081803574076)), (np.float64(37.63517304331149), np.float64(0.9962993892948067)), (np.float64(40.90621238519678), np.float64(0.05559386187778482)), (np.float64(88.46134866674547), np.float64(0.5298209942662))]\n",
      "Length: 5\n"
     ]
    },
    {
     "data": {
      "image/png": "[encoded data removed]",
      "text/plain": [
       "<Figure size 640x480 with 1 Axes>"
      ]
     },
     "metadata": {},
     "output_type": "display_data"
    }
   ],
   "source": [
    "def convert_npfloat_list(data):\n",
    "    return [(round(float(r), 2), round(float(a), 2)) for r, a in data]\n",
    "\n",
    "\n",
    "def predict_image(image_path):\n",
    "    # Load and preprocess image\n",
    "    img = cv2.imread(image_path, cv2.IMREAD_GRAYSCALE).astype(np.float32) / 255.0\n",
    "    img = np.expand_dims(img, axis=0)  # (1, H, W)\n",
    "    img = np.expand_dims(img, axis=0)  # (1, 1, H, W)\n",
    "    img_tensor = torch.tensor(img).to(device)\n",
    "\n",
    "    autoencoder.eval()\n",
    "    with torch.no_grad():\n",
    "        output = autoencoder(img_tensor)\n",
    "        heatmap = output[0]  # (1, H, W)\n",
    "        corner_coords = extract_coordinates_from_heatmap(heatmap, threshold=0.75)\n",
    "        print(\"Detected corners:\", corner_coords)\n",
    "        print(\"Length:\", len(corner_coords))\n",
    "\n",
    "    output_img = output.cpu().squeeze().numpy()\n",
    "    return output_img\n",
    "\n",
    "# Example usage:\n",
    "result_img = predict_image(\"synthetic_dataset_complex\\sample_0005\\img1.png\")\n",
    "plt.imshow(result_img, cmap=\"gray\")\n",
    "plt.show()"
   ]
  },
  {
   "cell_type": "code",
   "execution_count": 243,
   "id": "e6065418",
   "metadata": {},
   "outputs": [
    {
     "name": "stdout",
     "output_type": "stream",
     "text": [
      "Detected corners: [(np.float64(36.33589499600256), np.float64(0.8869728902939429)), (np.float64(41.019960028764686), np.float64(0.945170513981788)), (np.float64(88.13647105973892), np.float64(0.417086645199325))]\n",
      "Length: 3\n"
     ]
    },
    {
     "data": {
      "image/png": "[encoded data removed]",
      "text/plain": [
       "<Figure size 640x480 with 1 Axes>"
      ]
     },
     "metadata": {},
     "output_type": "display_data"
    }
   ],
   "source": [
    "def convert_npfloat_list(data):\n",
    "    return [(round(float(r), 2), round(float(a), 2)) for r, a in data]\n",
    "\n",
    "\n",
    "def predict_image(image_path):\n",
    "    # Load and preprocess image\n",
    "    img = cv2.imread(image_path, cv2.IMREAD_GRAYSCALE).astype(np.float32) / 255.0\n",
    "    img = np.expand_dims(img, axis=0)  # (1, H, W)\n",
    "    img = np.expand_dims(img, axis=0)  # (1, 1, H, W)\n",
    "    img_tensor = torch.tensor(img).to(device)\n",
    "\n",
    "    autoencoder.eval()\n",
    "    with torch.no_grad():\n",
    "        output = autoencoder(img_tensor)\n",
    "        heatmap = output[0]  # (1, H, W)\n",
    "        corner_coords = extract_coordinates_from_heatmap(heatmap, threshold=0.75)\n",
    "        print(\"Detected corners:\", corner_coords)\n",
    "        print(\"Length:\", len(corner_coords))\n",
    "\n",
    "    output_img = output.cpu().squeeze().numpy()\n",
    "    return output_img\n",
    "\n",
    "# Example usage:\n",
    "result_img = predict_image(\"synthetic_dataset_complex\\sample_0005\\img2.png\")\n",
    "plt.imshow(result_img, cmap=\"gray\")\n",
    "plt.show()"
   ]
  },
  {
   "cell_type": "code",
   "execution_count": 114,
   "id": "97bfd2b2",
   "metadata": {},
   "outputs": [],
   "source": [
    "def match_point_sets(list1, list2):\n",
    "    arr1 = np.array(list1, dtype=np.float64)\n",
    "    arr2 = np.array(list2, dtype=np.float64)\n",
    "\n",
    "    # Ensure arr1 is the shorter one\n",
    "    if len(arr1) > len(arr2):\n",
    "        arr1, arr2 = arr2, arr1\n",
    "\n",
    "    matched_arr2 = []\n",
    "    used_indices = set()\n",
    "\n",
    "    for p1 in arr1:\n",
    "        dists = np.linalg.norm(arr2 - p1, axis=1)\n",
    "        for idx in np.argsort(dists):\n",
    "            if idx not in used_indices:\n",
    "                matched_arr2.append(arr2[idx])\n",
    "                used_indices.add(idx)\n",
    "                break\n",
    "\n",
    "    # Sort both lists by radius (to match your extract_coordinates_from_heatmap style)\n",
    "    arr1_sorted = sorted(arr1, key=lambda x: x[0])\n",
    "    arr2_sorted = sorted(matched_arr2, key=lambda x: x[0])\n",
    "\n",
    "    # Convert to standard list of tuples (float64 values)\n",
    "    list1_out = [(float(r), float(a)) for r, a in arr1_sorted]\n",
    "    list2_out = [(float(r), float(a)) for r, a in arr2_sorted]\n",
    "\n",
    "    return list1_out, list2_out\n"
   ]
  },
  {
   "cell_type": "code",
   "execution_count": 113,
   "id": "f1e37cea",
   "metadata": {},
   "outputs": [
    {
     "data": {
      "text/plain": [
       "([(50.51, 0.85),\n",
       "  (62.8, 0.14),\n",
       "  (66.11, 0.74),\n",
       "  (75.86, 0.68),\n",
       "  (88.0, 0.43),\n",
       "  (91.23, 0.03)],\n",
       " [(54.18, 0.22),\n",
       "  (61.18, 0.19),\n",
       "  (66.81, 0.78),\n",
       "  (75.93, 0.72),\n",
       "  (88.29, 0.48),\n",
       "  (91.71, 0.07)])"
      ]
     },
     "execution_count": 113,
     "metadata": {},
     "output_type": "execute_result"
    }
   ],
   "source": [
    "l1 = [(54.18, 0.22), (61.18, 0.19), (66.81, 0.78), (75.93, 0.72), (76.49, 0.07), (78.51, 0.07), (88.29, 0.48), (91.71, 0.07)]\n",
    "l2 = [(50.51, 0.85), (62.8, 0.14), (66.11, 0.74), (75.86, 0.68), (88.0, 0.43), (91.23, 0.03)]\n",
    "\n",
    "match_point_sets(l1, l2)"
   ]
  }
 ],
 "metadata": {
  "kernelspec": {
   "display_name": "nlp",
   "language": "python",
   "name": "python3"
  },
  "language_info": {
   "codemirror_mode": {
    "name": "ipython",
    "version": 3
   },
   "file_extension": ".py",
   "mimetype": "text/x-python",
   "name": "python",
   "nbconvert_exporter": "python",
   "pygments_lexer": "ipython3",
   "version": "3.10.16"
  }
 },
 "nbformat": 4,
 "nbformat_minor": 5
}
